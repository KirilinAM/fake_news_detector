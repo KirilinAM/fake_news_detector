{
 "cells": [
  {
   "cell_type": "code",
   "execution_count": null,
   "metadata": {
    "id": "pilNXPUjpvjy"
   },
   "outputs": [],
   "source": [
    "import numpy as np\n",
    "import pandas as pd\n",
    "from sklearn.feature_extraction.text import TfidfVectorizer\n",
    "from sklearn.model_selection import train_test_split\n",
    "from sklearn.linear_model import PassiveAggressiveClassifier\n",
    "from sklearn.metrics import confusion_matrix\n",
    "from scipy.sparse import hstack, vstack\n",
    "from matplotlib import pyplot as plt\n",
    "import seaborn as sns"
   ]
  },
  {
   "cell_type": "markdown",
   "metadata": {
    "id": "QxfgA0HoqKE_"
   },
   "source": [
    "# Извлечение данных"
   ]
  },
  {
   "cell_type": "code",
   "execution_count": 31,
   "metadata": {
    "colab": {
     "base_uri": "https://localhost:8080/"
    },
    "id": "UmMB39JPp-uL",
    "outputId": "97d3f8ba-fcf9-4a5a-f412-9ddf782e19af"
   },
   "outputs": [
    {
     "name": "stdout",
     "output_type": "stream",
     "text": [
      "--2024-12-03 13:48:52--  https://storage.yandexcloud.net/academy.ai/practica/fake_news.csv\n",
      "Resolving storage.yandexcloud.net (storage.yandexcloud.net)... 213.180.193.243, 2a02:6b8::1d9\n",
      "Connecting to storage.yandexcloud.net (storage.yandexcloud.net)|213.180.193.243|:443... connected.\n",
      "HTTP request sent, awaiting response... 200 OK\n",
      "Length: 30696129 (29M) [text/csv]\n",
      "Saving to: ‘fake_news.csv.4’\n",
      "\n",
      "fake_news.csv.4     100%[===================>]  29.27M  36.3MB/s    in 0.8s    \n",
      "\n",
      "2024-12-03 13:48:53 (36.3 MB/s) - ‘fake_news.csv.4’ saved [30696129/30696129]\n",
      "\n"
     ]
    }
   ],
   "source": [
    "!wget https://storage.yandexcloud.net/academy.ai/practica/fake_news.csv"
   ]
  },
  {
   "cell_type": "code",
   "execution_count": 32,
   "metadata": {
    "colab": {
     "base_uri": "https://localhost:8080/",
     "height": 206
    },
    "id": "GW5aR7LcqM5x",
    "outputId": "bb71df77-d29e-4584-81d7-7e05b2d6bfde"
   },
   "outputs": [
    {
     "data": {
      "application/vnd.google.colaboratory.intrinsic+json": {
       "summary": "{\n  \"name\": \"df\",\n  \"rows\": 6335,\n  \"fields\": [\n    {\n      \"column\": \"title\",\n      \"properties\": {\n        \"dtype\": \"string\",\n        \"num_unique_values\": 6256,\n        \"samples\": [\n          \"Elizabeth Warren's speech attacking Donald Trump made a bigger argument about Republicans\",\n          \"Assange: Clinton And ISIS Are Funded By Same People, \\u201cTrump Not Permitted To Win\\u201d\",\n          \"Reporters Stunned to Learn Trump Fans Lining Up 12 Hours Before Rally Starts\"\n        ],\n        \"semantic_type\": \"\",\n        \"description\": \"\"\n      }\n    },\n    {\n      \"column\": \"text\",\n      \"properties\": {\n        \"dtype\": \"string\",\n        \"num_unique_values\": 6060,\n        \"samples\": [\n          \"Republicans taking control of Congress this coming week will try to overcome their reputation as a divided party hobbled by infighting by working to reshape policy in ways that Americans will feel in corporate boardrooms, on factory floors and at the gas pump.\\n\\nIncoming committee chairmen are preparing fresh oversight of federal agencies while rank-and-file members will be encouraged to use a new budget plan and government spending bills to chip away at President Obama\\u2019s environmental regulations, health-care reform and outreach to Cuba and Iran.\\n\\nAfter years of sparring with the White House, Republicans are eager to demonstrate productivity and some level of bipartisan \\u00adcooperation with Obama and the Democrats. Public disgust with Washington gridlock remains high, and with the 2016 presidential campaign beginning in earnest, broader voter interest \\u2014 especially among independents and Democrats \\u2014 could put recent GOP gains at risk in less than two years.\\n\\n\\u201cOn the things where we agree, the goal will be to make a law, not just put something on [Obama\\u2019s] desk,\\u201d incoming Senate Majority Leader Mitch McConnell (R-Ky.) said in an interview, adding later: \\u201cI want to make it clear: Desire for a signature is not going to dictate everything that we do.\\u201d\\n\\nSecuring final passage of bills will require McConnell and House Speaker John A. Boehner (R-Ohio) to compromise with Democrats while holding together their own ranks, which have clashed repeatedly over issues such as spending and immigration. Many GOP leaders hope that their differences can be set aside in favor of legislative wins.\\n\\nThe House and Senate formally reconvene Tuesday. New members will be sworn in and top leaders and committee chairmen formally installed on a day steeped in tradition and ceremony.\\n\\nBoehner and McConnell will be backed by larger GOP majorities: 246 Republicans in the House \\u2014 the party\\u2019s largest majority since just after World War II \\u2014 and 54 GOP senators, an impressive gain but short of the 60 votes required to overcome most procedural hurdles that Democrats will have at their disposal.\\n\\nIn the Senate, the rebranding effort will begin with energy policy.\\n\\nMcConnell plans to start his tenure as Senate majority leader with a \\u201cfull-throated\\u201d debate on national energy policy, ranging from a new oil pipeline to additional oil exploration. He has also promised consideration of liberal alternatives.\\n\\nMcConnell wants to use the controversial proposal to authorize construction of the Keystone XL pipeline as the gen\\u00adesis for a free-wheeling Senate debate about the United States\\u2019 energy future, in which both sides will have the opportunity to offer and debate more expansive energy issues than the narrow pipeline proposal.\\n\\n\\u201cWe can treat this like a serious and significant energy debate,\\u201d McConnell said in an interview before Christmas in his Capitol office.\\n\\nObama has resisted GOP efforts to authorize the pipeline, but dozens of moderate congressional Democrats support the bill and a broader energy debate.\\n\\nOther Democrats are skeptical of McConnell\\u2019s plans.\\n\\n\\u201cThe $64,000 question as to whether the Congress can get anything done is which way the Republican leadership goes,\\u201d Sen. Charles E. Schumer (D-N.Y.) said in an interview Saturday. \\u201cIf they let the tea party pull them to the right into the path of negativity and obstruction, we\\u2019ll get nothing done.\\u201d\\n\\nSen. John Hoeven (R-N.D.), a lead author of the Keystone bill, said that Republicans plan to consider proposals allowing the export of liquefied natural gas; to give state governments greater power to oversee hydraulic fracturing; and to restrict the federal government\\u2019s role in the construction of cross-border gas pipelines.\\n\\n\\u201cI don\\u2019t think we have an energy bill that doesn\\u2019t have a Democratic co-sponsor on it,\\u201d he said. \\u201cBecause at the end of the day you\\u2019ve got to get at least 60 votes\\u201d to clear procedural hurdles.\\n\\nThe open process is part of McConnell\\u2019s effort to live up to his pledge to restore the Senate\\u2019s grand tradition of free and full debate, while also advancing conservative causes. A skilled practitioner in the use of the Senate\\u2019s arcane procedural rules to move or block legislation, McConnell has pledged to use those rules to score conservative wins. He has been coaching GOP senators that their most likely path to wins will come on the annual spending bills for the federal government \\u2014 which Republicans have routinely opposed on the grounds that they spend too much taxpayer money.\\n\\nOther party leaders echo those sentiments. \\u201cI think a majority [of Republicans] recognize that we have to govern responsibly,\\u201d said Sen. John McCain (R-Ariz.), who will become chairman of the Armed Services Committee. \\u201cWe have to show that we can be a productive party, and that, I think, will have a direct effect on whether we\\u2019re able to elect a Republican as president in 2016.\\u201d\\n\\nBut now, with control of the House and Senate, Republicans have more leeway to attach policy riders to spending bills that will restrict federal agencies in their oversight of environmental, labor and other regulations. These still may draw presidential vetoes, but McConnell believes that Republicans will have leverage to get some restrictions included, just as the mammoth spending measure approved last month included language sought by Wall Street firms making risky trades.\\n\\nIn the House, most of the early weeks will seem like a do-over of the past two years \\u2014 except that many of the bills passed will get swifter Senate consideration.\\n\\nUp first is a veterans employment bill that passed last year with bipartisan support, according to senior leadership aides. There is also a bill to loosen work requirements set by the Affordable Care Act and a similar bill to authorize the Keystone pipeline.\\n\\nThe second week of January will be devoted to a new spending plan for the Department of Homeland Security. The spending bill funds DHS only until the end of February, a move designed to give Republicans more time to craft a legislative response to Obama\\u2019s decision to change immigration policy through executive actions. But no specific proposals have emerged, the aides said.\\n\\nThen there are the investigations into alleged wrongdoing at agencies including the Internal Revenue Service, the Justice Department and the Environmental Protection Agency.\\n\\n\\u201cThere are issues that haven\\u2019t been resolved,\\u201d said Rep. Jason Chaffetz (R-Utah), the new chairman of the House Oversight and Government Reform Committee.\\n\\nHe is launching subcommittees to closely track Obama\\u2019s energy and environmental policies and created \\u201cadministrative rules,\\u201d a panel that will \\u201ctry to figure out what the administration is doing next with its rule-making authority. We\\u2019re going to jump on those as fast as we possibly can,\\u201d he said.\\n\\nBefore the work begins, Boehner is expected to face another leadership challenge. After he survived a close call two years ago, conservative blogs and radio shows are actively supporting another effort to unseat him.\\n\\nPresuming that the 434 currently seated House members show up to vote Tuesday and that all Democrats vote against him, at least 28 of the 246 Republicans also would need to vote against Boehner to deny him the gavel. (The 435th House seat is held by Rep. Michael G. Grimm (R-N.Y.), who plans to resign Monday after recently pleading guilty to tax evasion charges.)\\n\\nRep. Walter B. Jones (R-N.C.), who opposed Boehner two years ago, said in a recent radio interview that he\\u2019ll do it again, adding that at least 16 to 18 Republican members might vote against the speaker. Among them is Rep. Jim Bridenstine (R-Okla.), who said Friday that he will vote against the speaker because the spending bill passed last month didn\\u2019t fully strip DHS of its funding.\\n\\nRep. Tom Cole (R-Okla.), a Boehner ally, said in an interview that \\u201cI expect a few scattered \\u2018no\\u2019 votes. But because Boehner has been strengthened by the gains in the election, the speaker election should mostly be an uneventful coronation.\\u201d\\n\\nThe opening weeks of the new Congress are also expected to include the confirmation of Ashton Carter, Obama\\u2019s pick to lead the Pentagon, and Loretta Lynch to be the next attorney general. Concerns with Iran are also expected to be an early focus. The Obama administration persuaded Senate Democrats last year to hold off debating a bipartisan proposal authorizing stronger sanctions against the Iranian regime.\\n\\nBut Sen. Bob Corker (R-Tenn.), the incoming chairman of the Foreign Relations Committee, said, \\u201cMy guess is fairly early on in some form or fashion the Senate\\u2019s going to want to weigh in on Iran.\\u201d\\n\\nCorker also plans to launch \\u201ca rigorous hearing process\\u201d on Obama\\u2019s decision to restore diplomatic relations with Cuba. Republicans have threatened to block funding for a new embassy in Havana and confirmation of a new ambassador to Cuba. But Obama could veto spending bills that include such restrictions, sparking a showdown over whether the GOP is willing to shutter parts of the government over a new Cuba policy.\\n\\nIn 2016, Republicans will be defending at least 24 Senate seats and about a dozen first-term House members from swing districts around the country. Party leaders have a political imperative to govern and avoid short-term fights with Obama.\\n\\n\\u201cWe will see if there is an opportunity for a fourth quarter for President Obama that actually moves the country in the direction we\\u2019d like to go,\\u201d said Sen. Roger Wicker (R-Miss.), who also will be responsible for helping reelect GOP senators in 2016.\\n\\n\\u201cReagan did it a generation ago working with Democrats. Clinton did it almost two decades ago with welfare reform and deficit reduction,\\u201d he said. \\u201cSo it can be done \\u2014 if the president is disposed to move in that direction.\\u201d\",\n          \"Reps. Kevin McCarthy, R-California, Jason Chaffetz, R-Utah, and Daniel Webster, R-Florida, are the three candidates vying for the post, and the winner becomes the favorite to become second in line to succeed the President of the United States.\\n\\nBut Thursday's vote inside the House GOP conference is just the first step. The candidate who gets the Republican party's internal nod still has to be approved by the full House of Representatives on October 29. And that's where things can get tricky.\\n\\nIf the Republican nominee can't garner 218 votes on the House floor, then Boehner will remain the speaker. And the potential for multiple rounds of votes on the House floor could open up the election to other candidates beyond the three that are in the race now. It would also prolong the deeply divisive and public process for House Republicans, who are hoping to chart a new path forward and prove they can make the dysfunctional Capitol work.\\n\\nThe three candidates will make their pitch to GOP colleagues at a \\\"candidate forum\\\" on Thursday morning in a conference room in the basement of the Capitol. Each gets three minutes to make a speech before answering questions from members. At noon, the 247 members of the House Republican conference gather in the ornate Ways and Means Committee room to vote. Under the House GOP conference rules, the three candidates are not allowed to make their own speeches. Instead each can designate one supporter to make a three-minute address nominating them for the post. Then up to two additional supporters can speak for another minute each on the candidate's behalf. To win the GOP nomination, a candidate needs a simple majority of all House Republicans -- or 125 votes. (That number could change if any House Republicans are absent or opts not to vote in the election.) Boehner plans to vote for McCarthy before heading to New York to tape an appearance on \\\"The Tonight Show,\\\" according to a spokesman. The delegate from American Samoa, Amata Radewagen, who doesn't get a vote on the House floor, does get to cast a vote for speaker inside the conference meeting. RELATED: John Boehner to appear on 'The Tonight Show' Three members serve as \\\"tally clerks\\\" and collect the ballots and count how many votes each candidate receives. Once all the ballots are counted, a representative of the conference will announce the results, along with the vote totals. If no candidate gets a majority of the conference on the first vote, a second ballot circulates with the names of the top two vote-getters, and a winner is announced after those ballots are counted. The new speaker can't take the gavel from Boehner until the full House of Representatives votes. Unlike the private contest on Thursday, the floor vote is covered live by C-SPAN's television cameras inside the House chamber. Each member of Congress is called on in alphabetical order to stand and announce their choice for speaker. The winner must win the votes of a majority -- 218, if everyone in the House is present -- in order to win. The vast majority of House Democrats are expected for to vote for former Speaker and current Minority Leader Nancy Pelosi. House Republican conference rules require that GOP members support their party's nominee on the floor, but many conservatives have ignored that rule in recent elections. That's where any drama will occur. If the GOP nominee fails to get a majority, the contest on the House floor could go to multiple ballots. Boehner will remain the speaker until a majority of the House votes to elect a new candidate. The last time it took more than one ballot to elect a speaker was in 1923 when it took nine ballots over the course of three days. And you don't need to be in the House to get the job. The Constitution does not require that the speaker be someone currently serving in Congress, but all who have been elected to the post have been House members. Former Secretary of State Colin Powell, Sen. Rand Paul and Sen. Jeff Sessions received votes in the January 2015 election . And two years earlier, David Walker, the former head of the General Accounting Office, received one vote\",\n          \"Over the last six years, the Obama administration has been trying to address global warming\\u00a0with a flurry of rules aimed at reducing US carbon-dioxide emissions. First there were stricter fuel-economy standards for cars and trucks. More recently, the EPA\\u00a0proposed sweeping carbon regulations for coal-fired power plants (known as the \\\"Clean Power Plan\\\").\\n\\nThe overarching goal was to cut US greenhouse-gas emissions 17 percent below 2005 levels by 2020. That, the administration believed, would help advance global climate talks.\\n\\nBut all of Obama's moves so far\\u00a0have been insufficient to get to that 17 percent cut by 2020. As recent analyses from the Rhodium Group and the Clean Air Task Force\\u00a0have argued, the US also needs to reduce methane emissions dramatically to get there:\\n\\nCarbon-dioxide is the biggest greenhouse gas responsible for global warming. But it's not the only one. There's also\\u00a0methane.\\u00a0The US burns a lot of methane \\u2014 known as \\\"natural gas\\\" \\u2014 for energy. But when methane leaks out of oil and gas wells or pipelines and into the atmosphere, it acts as a potent greenhouse gas. (The White House says it's 25 times as effective at trapping heat as carbon dioxide. Other scientists say 34 times.)\\n\\nIn 2012, the EPA estimated that methane accounted for roughly\\u00a08.7 percent of US greenhouse-gas emissions (though this may be an\\u00a0underestimate). But experts have warned that methane leaks could be poised to grow in the coming years.\\n\\nThanks to the\\u00a0fracking boom, US energy companies have been extracting more and more natural gas from shale formations. On one level, that's good news for climate change: utilities are now burning more natural gas for electricity instead of coal, which means lower carbon-dioxide emissions from power plants.\\n\\nThe problem is that all this new drilling increases the risk of methane leaking into the air \\u2014 and those leaks\\u00a0are undermining the climate benefits of the gas boom.\\n\\nIn theory, it should be doable to plug these methane emissions,\\u00a0which can come from leaky pipelines or faulty drilling operations. Many companies already\\u00a0use infrared cameras to detect leaks and plug them. And they have financial incentives to do so \\u2014 after all, these companies would rather capture that methane and sell it for money than just have it float off into the air.\\n\\nMany oil and gas companies are already taking steps to detect and plug leaks\\n\\nStill, the White House wants to make sure these leaks really get plugged. So, on Wednesday, it\\u00a0announced a goal of cutting methane emissions from oil and gas operations 45 percent below 2012 levels by 2025.\\n\\nThis would be done through a combination of guidelines for voluntary actions by the industry and a hodgepodge of new regulations\\u00a0crafted by the EPA and other agencies. Some rules would focus on methane leaks from new oil and gas wells. Others would focus on pipelines used to transport the natural gas. The Interior Department is updating standards for drilling on public lands.\\n\\nThe White House noted that the oil and gas industry has already managed to cut methane emissions 16 percent since 1990 through voluntary measures. \\\"Nevertheless,\\\" it added, \\\"emissions from the oil and gas sector are projected to rise more than 25 percent by 2025 without additional steps to lower them.\\\"\\n\\nSome environmental groups said the White House's plan didn't go far enough. For example, the EPA is currently only working on rules to reduce emissions at new oil and gas wells \\u2014 and only much later will they work on rules for\\u00a0existing wells, which are by far the biggest source of emissions.\\n\\n\\\"While setting methane standards for the first time is an important step, failing to immediately regulate existing oil and gas equipment nationwide misses 90% of the methane pollution from the industry,\\\" Conrad Schneider of the Clean Air Task Force said in a statement.\\n\\nJayni Hein, policy director at the Institute for Policy Integrity at NYU School of Law, agreed: \\\"EPA's steps announced today would trim the sector's methane releases by about a third. We can and should go farther by regulating existing oil and natural gas sources.\\\"\\n\\nBy contrast, many oil and gas companies don't want new regulations at all \\u2014 they argue that the industry is already curbing methane leaks as is.\\u00a0\\\"Emissions will continue to fall as operators innovate and find new ways to capture and deliver more methane to consumers,\\\" said Jack Gerard, head of the American Petroleum Institute, in a statement. \\\"Existing EPA and state regulations are working. Another layer of burdensome requirements could actually slow down industry progress to reduce methane emissions.\\\"\\n\\nMeanwhile, it's worth noting that there are other sources of methane besides oil and gas. In 2012,\\u00a0according to the EPA, roughly 30 percent of methane in the United States came from natural-gas and petroleum operations (though, again, that may be an undercount).\\n\\nObama is relying on voluntary measures for methane in agriculture\\n\\n-- By contrast,\\u00a036 percent of US.methane emissions came from agriculture. The beef and dairy industry is a major contributor here: when cows belch, they produce methane (known as \\\"enteric fermentation\\\"). Other sources include decomposing cow manure, as well as methane from rice cultivation.\\n\\n-- Another\\u00a018 percent came from landfills. When food and other trash decays in a landfill, the organisms that feed on that trash emit methane into the atmosphere.\\n\\nThe Obama administration\\u00a0has been working on steps to cut methane in these areas, too. Back in March, the EPA announced it would come up with standards to reduce methane from all future landfills. It will then solicit public comments on whether to regulate landfills that have already been built.\\n\\nAs for cow burps, however, the administration is relying on purely voluntary measures for now. In June 2014, the EPA unveiled a \\\"partnership\\\" with the dairy industry to speed up the adoption of methane digesters that turn cow dung into energy. The hope is to reduce methane emissions from the dairy sector 25 percent by 2020.\\n\\nFurther reading: Obama has promised to cut US emissions 17% by 2020. Is that still possible?\"\n        ],\n        \"semantic_type\": \"\",\n        \"description\": \"\"\n      }\n    },\n    {\n      \"column\": \"label\",\n      \"properties\": {\n        \"dtype\": \"category\",\n        \"num_unique_values\": 2,\n        \"samples\": [\n          \"REAL\",\n          \"FAKE\"\n        ],\n        \"semantic_type\": \"\",\n        \"description\": \"\"\n      }\n    }\n  ]\n}",
       "type": "dataframe",
       "variable_name": "df"
      },
      "text/html": [
       "\n",
       "  <div id=\"df-8c169b31-a30b-41e3-87f0-2f14381dd7c5\" class=\"colab-df-container\">\n",
       "    <div>\n",
       "<style scoped>\n",
       "    .dataframe tbody tr th:only-of-type {\n",
       "        vertical-align: middle;\n",
       "    }\n",
       "\n",
       "    .dataframe tbody tr th {\n",
       "        vertical-align: top;\n",
       "    }\n",
       "\n",
       "    .dataframe thead th {\n",
       "        text-align: right;\n",
       "    }\n",
       "</style>\n",
       "<table border=\"1\" class=\"dataframe\">\n",
       "  <thead>\n",
       "    <tr style=\"text-align: right;\">\n",
       "      <th></th>\n",
       "      <th>title</th>\n",
       "      <th>text</th>\n",
       "      <th>label</th>\n",
       "    </tr>\n",
       "  </thead>\n",
       "  <tbody>\n",
       "    <tr>\n",
       "      <th>8476</th>\n",
       "      <td>You Can Smell Hillary’s Fear</td>\n",
       "      <td>Daniel Greenfield, a Shillman Journalism Fello...</td>\n",
       "      <td>FAKE</td>\n",
       "    </tr>\n",
       "    <tr>\n",
       "      <th>10294</th>\n",
       "      <td>Watch The Exact Moment Paul Ryan Committed Pol...</td>\n",
       "      <td>Google Pinterest Digg Linkedin Reddit Stumbleu...</td>\n",
       "      <td>FAKE</td>\n",
       "    </tr>\n",
       "    <tr>\n",
       "      <th>3608</th>\n",
       "      <td>Kerry to go to Paris in gesture of sympathy</td>\n",
       "      <td>U.S. Secretary of State John F. Kerry said Mon...</td>\n",
       "      <td>REAL</td>\n",
       "    </tr>\n",
       "    <tr>\n",
       "      <th>10142</th>\n",
       "      <td>Bernie supporters on Twitter erupt in anger ag...</td>\n",
       "      <td>— Kaydee King (@KaydeeKing) November 9, 2016 T...</td>\n",
       "      <td>FAKE</td>\n",
       "    </tr>\n",
       "    <tr>\n",
       "      <th>875</th>\n",
       "      <td>The Battle of New York: Why This Primary Matters</td>\n",
       "      <td>It's primary day in New York and front-runners...</td>\n",
       "      <td>REAL</td>\n",
       "    </tr>\n",
       "  </tbody>\n",
       "</table>\n",
       "</div>\n",
       "    <div class=\"colab-df-buttons\">\n",
       "\n",
       "  <div class=\"colab-df-container\">\n",
       "    <button class=\"colab-df-convert\" onclick=\"convertToInteractive('df-8c169b31-a30b-41e3-87f0-2f14381dd7c5')\"\n",
       "            title=\"Convert this dataframe to an interactive table.\"\n",
       "            style=\"display:none;\">\n",
       "\n",
       "  <svg xmlns=\"http://www.w3.org/2000/svg\" height=\"24px\" viewBox=\"0 -960 960 960\">\n",
       "    <path d=\"M120-120v-720h720v720H120Zm60-500h600v-160H180v160Zm220 220h160v-160H400v160Zm0 220h160v-160H400v160ZM180-400h160v-160H180v160Zm440 0h160v-160H620v160ZM180-180h160v-160H180v160Zm440 0h160v-160H620v160Z\"/>\n",
       "  </svg>\n",
       "    </button>\n",
       "\n",
       "  <style>\n",
       "    .colab-df-container {\n",
       "      display:flex;\n",
       "      gap: 12px;\n",
       "    }\n",
       "\n",
       "    .colab-df-convert {\n",
       "      background-color: #E8F0FE;\n",
       "      border: none;\n",
       "      border-radius: 50%;\n",
       "      cursor: pointer;\n",
       "      display: none;\n",
       "      fill: #1967D2;\n",
       "      height: 32px;\n",
       "      padding: 0 0 0 0;\n",
       "      width: 32px;\n",
       "    }\n",
       "\n",
       "    .colab-df-convert:hover {\n",
       "      background-color: #E2EBFA;\n",
       "      box-shadow: 0px 1px 2px rgba(60, 64, 67, 0.3), 0px 1px 3px 1px rgba(60, 64, 67, 0.15);\n",
       "      fill: #174EA6;\n",
       "    }\n",
       "\n",
       "    .colab-df-buttons div {\n",
       "      margin-bottom: 4px;\n",
       "    }\n",
       "\n",
       "    [theme=dark] .colab-df-convert {\n",
       "      background-color: #3B4455;\n",
       "      fill: #D2E3FC;\n",
       "    }\n",
       "\n",
       "    [theme=dark] .colab-df-convert:hover {\n",
       "      background-color: #434B5C;\n",
       "      box-shadow: 0px 1px 3px 1px rgba(0, 0, 0, 0.15);\n",
       "      filter: drop-shadow(0px 1px 2px rgba(0, 0, 0, 0.3));\n",
       "      fill: #FFFFFF;\n",
       "    }\n",
       "  </style>\n",
       "\n",
       "    <script>\n",
       "      const buttonEl =\n",
       "        document.querySelector('#df-8c169b31-a30b-41e3-87f0-2f14381dd7c5 button.colab-df-convert');\n",
       "      buttonEl.style.display =\n",
       "        google.colab.kernel.accessAllowed ? 'block' : 'none';\n",
       "\n",
       "      async function convertToInteractive(key) {\n",
       "        const element = document.querySelector('#df-8c169b31-a30b-41e3-87f0-2f14381dd7c5');\n",
       "        const dataTable =\n",
       "          await google.colab.kernel.invokeFunction('convertToInteractive',\n",
       "                                                    [key], {});\n",
       "        if (!dataTable) return;\n",
       "\n",
       "        const docLinkHtml = 'Like what you see? Visit the ' +\n",
       "          '<a target=\"_blank\" href=https://colab.research.google.com/notebooks/data_table.ipynb>data table notebook</a>'\n",
       "          + ' to learn more about interactive tables.';\n",
       "        element.innerHTML = '';\n",
       "        dataTable['output_type'] = 'display_data';\n",
       "        await google.colab.output.renderOutput(dataTable, element);\n",
       "        const docLink = document.createElement('div');\n",
       "        docLink.innerHTML = docLinkHtml;\n",
       "        element.appendChild(docLink);\n",
       "      }\n",
       "    </script>\n",
       "  </div>\n",
       "\n",
       "\n",
       "<div id=\"df-5136c9ed-5fab-4930-8ae7-afce52f175ac\">\n",
       "  <button class=\"colab-df-quickchart\" onclick=\"quickchart('df-5136c9ed-5fab-4930-8ae7-afce52f175ac')\"\n",
       "            title=\"Suggest charts\"\n",
       "            style=\"display:none;\">\n",
       "\n",
       "<svg xmlns=\"http://www.w3.org/2000/svg\" height=\"24px\"viewBox=\"0 0 24 24\"\n",
       "     width=\"24px\">\n",
       "    <g>\n",
       "        <path d=\"M19 3H5c-1.1 0-2 .9-2 2v14c0 1.1.9 2 2 2h14c1.1 0 2-.9 2-2V5c0-1.1-.9-2-2-2zM9 17H7v-7h2v7zm4 0h-2V7h2v10zm4 0h-2v-4h2v4z\"/>\n",
       "    </g>\n",
       "</svg>\n",
       "  </button>\n",
       "\n",
       "<style>\n",
       "  .colab-df-quickchart {\n",
       "      --bg-color: #E8F0FE;\n",
       "      --fill-color: #1967D2;\n",
       "      --hover-bg-color: #E2EBFA;\n",
       "      --hover-fill-color: #174EA6;\n",
       "      --disabled-fill-color: #AAA;\n",
       "      --disabled-bg-color: #DDD;\n",
       "  }\n",
       "\n",
       "  [theme=dark] .colab-df-quickchart {\n",
       "      --bg-color: #3B4455;\n",
       "      --fill-color: #D2E3FC;\n",
       "      --hover-bg-color: #434B5C;\n",
       "      --hover-fill-color: #FFFFFF;\n",
       "      --disabled-bg-color: #3B4455;\n",
       "      --disabled-fill-color: #666;\n",
       "  }\n",
       "\n",
       "  .colab-df-quickchart {\n",
       "    background-color: var(--bg-color);\n",
       "    border: none;\n",
       "    border-radius: 50%;\n",
       "    cursor: pointer;\n",
       "    display: none;\n",
       "    fill: var(--fill-color);\n",
       "    height: 32px;\n",
       "    padding: 0;\n",
       "    width: 32px;\n",
       "  }\n",
       "\n",
       "  .colab-df-quickchart:hover {\n",
       "    background-color: var(--hover-bg-color);\n",
       "    box-shadow: 0 1px 2px rgba(60, 64, 67, 0.3), 0 1px 3px 1px rgba(60, 64, 67, 0.15);\n",
       "    fill: var(--button-hover-fill-color);\n",
       "  }\n",
       "\n",
       "  .colab-df-quickchart-complete:disabled,\n",
       "  .colab-df-quickchart-complete:disabled:hover {\n",
       "    background-color: var(--disabled-bg-color);\n",
       "    fill: var(--disabled-fill-color);\n",
       "    box-shadow: none;\n",
       "  }\n",
       "\n",
       "  .colab-df-spinner {\n",
       "    border: 2px solid var(--fill-color);\n",
       "    border-color: transparent;\n",
       "    border-bottom-color: var(--fill-color);\n",
       "    animation:\n",
       "      spin 1s steps(1) infinite;\n",
       "  }\n",
       "\n",
       "  @keyframes spin {\n",
       "    0% {\n",
       "      border-color: transparent;\n",
       "      border-bottom-color: var(--fill-color);\n",
       "      border-left-color: var(--fill-color);\n",
       "    }\n",
       "    20% {\n",
       "      border-color: transparent;\n",
       "      border-left-color: var(--fill-color);\n",
       "      border-top-color: var(--fill-color);\n",
       "    }\n",
       "    30% {\n",
       "      border-color: transparent;\n",
       "      border-left-color: var(--fill-color);\n",
       "      border-top-color: var(--fill-color);\n",
       "      border-right-color: var(--fill-color);\n",
       "    }\n",
       "    40% {\n",
       "      border-color: transparent;\n",
       "      border-right-color: var(--fill-color);\n",
       "      border-top-color: var(--fill-color);\n",
       "    }\n",
       "    60% {\n",
       "      border-color: transparent;\n",
       "      border-right-color: var(--fill-color);\n",
       "    }\n",
       "    80% {\n",
       "      border-color: transparent;\n",
       "      border-right-color: var(--fill-color);\n",
       "      border-bottom-color: var(--fill-color);\n",
       "    }\n",
       "    90% {\n",
       "      border-color: transparent;\n",
       "      border-bottom-color: var(--fill-color);\n",
       "    }\n",
       "  }\n",
       "</style>\n",
       "\n",
       "  <script>\n",
       "    async function quickchart(key) {\n",
       "      const quickchartButtonEl =\n",
       "        document.querySelector('#' + key + ' button');\n",
       "      quickchartButtonEl.disabled = true;  // To prevent multiple clicks.\n",
       "      quickchartButtonEl.classList.add('colab-df-spinner');\n",
       "      try {\n",
       "        const charts = await google.colab.kernel.invokeFunction(\n",
       "            'suggestCharts', [key], {});\n",
       "      } catch (error) {\n",
       "        console.error('Error during call to suggestCharts:', error);\n",
       "      }\n",
       "      quickchartButtonEl.classList.remove('colab-df-spinner');\n",
       "      quickchartButtonEl.classList.add('colab-df-quickchart-complete');\n",
       "    }\n",
       "    (() => {\n",
       "      let quickchartButtonEl =\n",
       "        document.querySelector('#df-5136c9ed-5fab-4930-8ae7-afce52f175ac button');\n",
       "      quickchartButtonEl.style.display =\n",
       "        google.colab.kernel.accessAllowed ? 'block' : 'none';\n",
       "    })();\n",
       "  </script>\n",
       "</div>\n",
       "    </div>\n",
       "  </div>\n"
      ],
      "text/plain": [
       "                                                   title  \\\n",
       "8476                        You Can Smell Hillary’s Fear   \n",
       "10294  Watch The Exact Moment Paul Ryan Committed Pol...   \n",
       "3608         Kerry to go to Paris in gesture of sympathy   \n",
       "10142  Bernie supporters on Twitter erupt in anger ag...   \n",
       "875     The Battle of New York: Why This Primary Matters   \n",
       "\n",
       "                                                    text label  \n",
       "8476   Daniel Greenfield, a Shillman Journalism Fello...  FAKE  \n",
       "10294  Google Pinterest Digg Linkedin Reddit Stumbleu...  FAKE  \n",
       "3608   U.S. Secretary of State John F. Kerry said Mon...  REAL  \n",
       "10142  — Kaydee King (@KaydeeKing) November 9, 2016 T...  FAKE  \n",
       "875    It's primary day in New York and front-runners...  REAL  "
      ]
     },
     "execution_count": 32,
     "metadata": {},
     "output_type": "execute_result"
    }
   ],
   "source": [
    "data_path = 'fake_news.csv'\n",
    "df = pd.read_csv(data_path,index_col='Unnamed: 0')\n",
    "df.head()"
   ]
  },
  {
   "cell_type": "code",
   "execution_count": 33,
   "metadata": {
    "colab": {
     "base_uri": "https://localhost:8080/"
    },
    "id": "eGrdvDx9qQlR",
    "outputId": "2ca0bbfa-343a-46b8-bb37-2cb3a2d3fb35"
   },
   "outputs": [
    {
     "name": "stdout",
     "output_type": "stream",
     "text": [
      "<class 'pandas.core.frame.DataFrame'>\n",
      "Index: 6335 entries, 8476 to 4330\n",
      "Data columns (total 3 columns):\n",
      " #   Column  Non-Null Count  Dtype \n",
      "---  ------  --------------  ----- \n",
      " 0   title   6335 non-null   object\n",
      " 1   text    6335 non-null   object\n",
      " 2   label   6335 non-null   object\n",
      "dtypes: object(3)\n",
      "memory usage: 198.0+ KB\n"
     ]
    }
   ],
   "source": [
    "df.info()"
   ]
  },
  {
   "cell_type": "markdown",
   "metadata": {
    "id": "I05cSZMaqU8J"
   },
   "source": [
    "# Деление трейн-тест"
   ]
  },
  {
   "cell_type": "code",
   "execution_count": 34,
   "metadata": {
    "id": "DhiJktPdqVp9"
   },
   "outputs": [],
   "source": [
    "X_train, X_test, y_train, y_test = train_test_split(df[['title','text']],df['label'],test_size=0.25,stratify=df['label'])"
   ]
  },
  {
   "cell_type": "markdown",
   "metadata": {
    "id": "elOPpPwRqZSF"
   },
   "source": [
    "# Модель\n",
    "# Создание"
   ]
  },
  {
   "cell_type": "code",
   "execution_count": 35,
   "metadata": {
    "id": "j2OLwfoFqy8F"
   },
   "outputs": [],
   "source": [
    "def fit_some_vectorizer_from_dataframe(df):\n",
    "    X = {}\n",
    "    vectorizers = {}\n",
    "    for name in df:\n",
    "        vectorizers[name] = TfidfVectorizer().fit(df[name])\n",
    "    return vectorizers\n",
    "\n",
    "class fake_news_model:\n",
    "    def __init__(self,model=None,vectorizers=None):\n",
    "        self._vectorizers = vectorizers\n",
    "        self._model = model\n",
    "\n",
    "    def _prepare(self,df):\n",
    "        X_list = []\n",
    "        if self._vectorizers is None:\n",
    "            self._vectorizers = fit_some_vectorizer_from_dataframe(df)\n",
    "        for vectorizer_name in self._vectorizers:\n",
    "            vectorizer = self._vectorizers[vectorizer_name]\n",
    "            feature = df[vectorizer_name]\n",
    "            X_list.append(vectorizer.transform(feature))\n",
    "        X = hstack(X_list)\n",
    "        return X\n",
    "\n",
    "    def fit(self,features_df,label_df):\n",
    "        if self._model is None:\n",
    "            self._model = PassiveAggressiveClassifier(warm_start = True)\n",
    "        X = self._prepare(features_df)\n",
    "        self._model.fit(X,label_df)\n",
    "        return self\n",
    "\n",
    "    def predict(self,features_df):\n",
    "        X = self._prepare(features_df)\n",
    "        return self._model.predict(X)\n"
   ]
  },
  {
   "cell_type": "markdown",
   "metadata": {
    "id": "DKt25MtLrFGw"
   },
   "source": [
    "## Обучение\n",
    "С имитацией онлайн обучения"
   ]
  },
  {
   "cell_type": "code",
   "execution_count": 44,
   "metadata": {
    "id": "lQHGhpTJw-L_"
   },
   "outputs": [],
   "source": [
    "mdl = fake_news_model()"
   ]
  },
  {
   "cell_type": "code",
   "execution_count": 45,
   "metadata": {
    "id": "hA0NsFUsq5Oo"
   },
   "outputs": [],
   "source": [
    "n_splits = 5\n",
    "\n",
    "indices_shuffled = np.random.permutation(X_train.index)\n",
    "indices_samples = np.array_split(indices_shuffled, n_splits)\n",
    "\n",
    "for sample in indices_samples:\n",
    "    X_splits = X_train.loc[sample]\n",
    "    y_splits = y_train.loc[sample]\n",
    "    mdl.fit(X_splits,y_splits)\n"
   ]
  },
  {
   "cell_type": "markdown",
   "metadata": {
    "id": "5HplCsW8xGCA"
   },
   "source": [
    "## Проверка"
   ]
  },
  {
   "cell_type": "code",
   "execution_count": 46,
   "metadata": {
    "id": "dIzjA9GhyHYi"
   },
   "outputs": [],
   "source": [
    "y_pred = mdl.predict(X_test)"
   ]
  },
  {
   "cell_type": "code",
   "execution_count": 38,
   "metadata": {
    "id": "_-89vDTHxMkO"
   },
   "outputs": [],
   "source": [
    "def accuracy_score(y_true,y_pred):\n",
    "    y_pred = np.array(y_pred)\n",
    "    y_true = np.array(y_true)\n",
    "    return (y_pred == y_true).mean()\n",
    "\n",
    "def show_confusion_matrix(y_true,y_pred):\n",
    "    # Вычисление матрицы ошибок и ее нормализация\n",
    "    y_pred,y_true = np.array(y_pred), np.array(y_true)\n",
    "    n = len(pd.unique(y_true))\n",
    "    plt.figure(figsize=(n,n))\n",
    "    confusion_normalized = confusion_matrix(y_true,y_pred,normalize='true')\n",
    "    axis_labels = pd.unique(y_true)\n",
    "    ax = sns.heatmap(\n",
    "        confusion_normalized, xticklabels=axis_labels, yticklabels=axis_labels,\n",
    "        cmap='Blues', annot=True, fmt='.4f', square=True)\n",
    "    plt.title(\"Матрица ошибок\")\n",
    "    plt.ylabel(\"Истинные метки\")\n",
    "    plt.xlabel(\"Предсказанные метки\")"
   ]
  },
  {
   "cell_type": "code",
   "execution_count": 49,
   "metadata": {
    "colab": {
     "base_uri": "https://localhost:8080/"
    },
    "id": "TNVMWprMyAOC",
    "outputId": "388a6fec-fc41-4dd7-f144-b8d0144ed688"
   },
   "outputs": [
    {
     "data": {
      "text/plain": [
       "0.9160353535353535"
      ]
     },
     "execution_count": 49,
     "metadata": {},
     "output_type": "execute_result"
    }
   ],
   "source": [
    "accuracy_score(y_test,y_pred)"
   ]
  },
  {
   "cell_type": "code",
   "execution_count": 50,
   "metadata": {
    "colab": {
     "base_uri": "https://localhost:8080/",
     "height": 226
    },
    "id": "vifyquhhyK8o",
    "outputId": "2aecb326-d464-44b8-e7a4-5c915609dd9d"
   },
   "outputs": [
    {
     "data": {
      "image/png": "[encoded data removed]",
      "text/plain": [
       "<Figure size 200x200 with 2 Axes>"
      ]
     },
     "metadata": {},
     "output_type": "display_data"
    }
   ],
   "source": [
    "show_confusion_matrix(y_test,y_pred)"
   ]
  }
 ],
 "metadata": {
  "colab": {
   "provenance": []
  },
  "kernelspec": {
   "display_name": "Fake_news_detector-QgeB5syT",
   "language": "python",
   "name": "python3"
  },
  "language_info": {
   "name": "python",
   "version": "3.11.2"
  }
 },
 "nbformat": 4,
 "nbformat_minor": 0
}

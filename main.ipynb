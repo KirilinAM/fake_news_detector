{
  "cells": [
    {
      "cell_type": "code",
      "execution_count": 1,
      "metadata": {
        "id": "pilNXPUjpvjy"
      },
      "outputs": [],
      "source": [
        "import numpy as np\n",
        "import pandas as pd\n",
        "from sklearn.feature_extraction.text import TfidfVectorizer\n",
        "from sklearn.model_selection import train_test_split\n",
        "from sklearn.linear_model import PassiveAggressiveClassifier\n",
        "from sklearn.metrics import confusion_matrix, accuracy_score\n",
        "from scipy.sparse import hstack, vstack\n",
        "from matplotlib import pyplot as plt\n",
        "import seaborn as sns"
      ]
    },
    {
      "cell_type": "markdown",
      "metadata": {
        "id": "QxfgA0HoqKE_"
      },
      "source": [
        "# Извлечение данных"
      ]
    },
    {
      "cell_type": "code",
      "execution_count": null,
      "metadata": {
        "colab": {
          "base_uri": "https://localhost:8080/"
        },
        "id": "UmMB39JPp-uL",
        "outputId": "97d3f8ba-fcf9-4a5a-f412-9ddf782e19af"
      },
      "outputs": [
        {
          "data": {
            "text/html": [
              "<div>\n",
              "<style scoped>\n",
              "    .dataframe tbody tr th:only-of-type {\n",
              "        vertical-align: middle;\n",
              "    }\n",
              "\n",
              "    .dataframe tbody tr th {\n",
              "        vertical-align: top;\n",
              "    }\n",
              "\n",
              "    .dataframe thead th {\n",
              "        text-align: right;\n",
              "    }\n",
              "</style>\n",
              "<table border=\"1\" class=\"dataframe\">\n",
              "  <thead>\n",
              "    <tr style=\"text-align: right;\">\n",
              "      <th></th>\n",
              "      <th>title</th>\n",
              "      <th>text</th>\n",
              "      <th>label</th>\n",
              "    </tr>\n",
              "  </thead>\n",
              "  <tbody>\n",
              "    <tr>\n",
              "      <th>8476</th>\n",
              "      <td>You Can Smell Hillary’s Fear</td>\n",
              "      <td>Daniel Greenfield, a Shillman Journalism Fello...</td>\n",
              "      <td>FAKE</td>\n",
              "    </tr>\n",
              "    <tr>\n",
              "      <th>10294</th>\n",
              "      <td>Watch The Exact Moment Paul Ryan Committed Pol...</td>\n",
              "      <td>Google Pinterest Digg Linkedin Reddit Stumbleu...</td>\n",
              "      <td>FAKE</td>\n",
              "    </tr>\n",
              "    <tr>\n",
              "      <th>3608</th>\n",
              "      <td>Kerry to go to Paris in gesture of sympathy</td>\n",
              "      <td>U.S. Secretary of State John F. Kerry said Mon...</td>\n",
              "      <td>REAL</td>\n",
              "    </tr>\n",
              "    <tr>\n",
              "      <th>10142</th>\n",
              "      <td>Bernie supporters on Twitter erupt in anger ag...</td>\n",
              "      <td>— Kaydee King (@KaydeeKing) November 9, 2016 T...</td>\n",
              "      <td>FAKE</td>\n",
              "    </tr>\n",
              "    <tr>\n",
              "      <th>875</th>\n",
              "      <td>The Battle of New York: Why This Primary Matters</td>\n",
              "      <td>It's primary day in New York and front-runners...</td>\n",
              "      <td>REAL</td>\n",
              "    </tr>\n",
              "  </tbody>\n",
              "</table>\n",
              "</div>"
            ],
            "text/plain": [
              "                                                   title  \\\n",
              "8476                        You Can Smell Hillary’s Fear   \n",
              "10294  Watch The Exact Moment Paul Ryan Committed Pol...   \n",
              "3608         Kerry to go to Paris in gesture of sympathy   \n",
              "10142  Bernie supporters on Twitter erupt in anger ag...   \n",
              "875     The Battle of New York: Why This Primary Matters   \n",
              "\n",
              "                                                    text label  \n",
              "8476   Daniel Greenfield, a Shillman Journalism Fello...  FAKE  \n",
              "10294  Google Pinterest Digg Linkedin Reddit Stumbleu...  FAKE  \n",
              "3608   U.S. Secretary of State John F. Kerry said Mon...  REAL  \n",
              "10142  — Kaydee King (@KaydeeKing) November 9, 2016 T...  FAKE  \n",
              "875    It's primary day in New York and front-runners...  REAL  "
            ]
          },
          "execution_count": 5,
          "metadata": {},
          "output_type": "execute_result"
        }
      ],
      "source": [
        "!wget -P /content/data https://storage.yandexcloud.net/academy.ai/practica/fake_news.csv\n",
        "data_path = 'data/fake_news.csv'\n",
        "df = pd.read_csv(data_path,index_col='Unnamed: 0')\n",
        "df.head()"
      ]
    },
    {
      "cell_type": "code",
      "execution_count": null,
      "metadata": {
        "colab": {
          "base_uri": "https://localhost:8080/"
        },
        "id": "eGrdvDx9qQlR",
        "outputId": "2ca0bbfa-343a-46b8-bb37-2cb3a2d3fb35"
      },
      "outputs": [
        {
          "name": "stdout",
          "output_type": "stream",
          "text": [
            "<class 'pandas.core.frame.DataFrame'>\n",
            "Index: 6335 entries, 8476 to 4330\n",
            "Data columns (total 3 columns):\n",
            " #   Column  Non-Null Count  Dtype \n",
            "---  ------  --------------  ----- \n",
            " 0   title   6335 non-null   object\n",
            " 1   text    6335 non-null   object\n",
            " 2   label   6335 non-null   object\n",
            "dtypes: object(3)\n",
            "memory usage: 198.0+ KB\n"
          ]
        }
      ],
      "source": [
        "df.info()"
      ]
    },
    {
      "cell_type": "markdown",
      "metadata": {
        "id": "I05cSZMaqU8J"
      },
      "source": [
        "# Деление трейн-тест"
      ]
    },
    {
      "cell_type": "code",
      "execution_count": null,
      "metadata": {
        "id": "DhiJktPdqVp9"
      },
      "outputs": [],
      "source": [
        "X_train, X_test, y_train, y_test = train_test_split(df[['title','text']],df['label'],test_size=0.25,stratify=df['label'])"
      ]
    },
    {
      "cell_type": "markdown",
      "metadata": {
        "id": "elOPpPwRqZSF"
      },
      "source": [
        "# Модель\n",
        "## Создание"
      ]
    },
    {
      "cell_type": "code",
      "execution_count": null,
      "metadata": {
        "id": "j2OLwfoFqy8F"
      },
      "outputs": [],
      "source": [
        "def fit_some_vectorizer_from_dataframe(df):\n",
        "    X = {}\n",
        "    vectorizers = {}\n",
        "    for name in df:\n",
        "        vectorizers[name] = TfidfVectorizer().fit(df[name])\n",
        "    return vectorizers\n",
        "\n",
        "class fake_news_model:\n",
        "    def __init__(self,model=None,vectorizers=None):\n",
        "        self._vectorizers = vectorizers\n",
        "        self._model = model\n",
        "\n",
        "    def _prepare(self,df):\n",
        "        X_list = []\n",
        "        if self._vectorizers is None:\n",
        "            self._vectorizers = fit_some_vectorizer_from_dataframe(df)\n",
        "        for vectorizer_name in self._vectorizers:\n",
        "            vectorizer = self._vectorizers[vectorizer_name]\n",
        "            feature = df[vectorizer_name]\n",
        "            X_list.append(vectorizer.transform(feature))\n",
        "        X = hstack(X_list)\n",
        "        return X\n",
        "\n",
        "    def fit(self,features_df,label_df):\n",
        "        if self._model is None:\n",
        "            self._model = PassiveAggressiveClassifier(warm_start = True)\n",
        "        X = self._prepare(features_df)\n",
        "        self._model.fit(X,label_df)\n",
        "        return self\n",
        "\n",
        "    def predict(self,features_df):\n",
        "        X = self._prepare(features_df)\n",
        "        return self._model.predict(X)\n"
      ]
    },
    {
      "cell_type": "code",
      "source": [],
      "metadata": {
        "id": "X8U_E1AEuTlq"
      },
      "execution_count": null,
      "outputs": []
    },
    {
      "cell_type": "markdown",
      "metadata": {
        "id": "DKt25MtLrFGw"
      },
      "source": [
        "## Обучение\n",
        "С имитацией онлайн обучения"
      ]
    },
    {
      "cell_type": "code",
      "execution_count": null,
      "metadata": {
        "id": "lQHGhpTJw-L_"
      },
      "outputs": [],
      "source": [
        "mdl = fake_news_model()"
      ]
    },
    {
      "cell_type": "code",
      "execution_count": null,
      "metadata": {
        "id": "hA0NsFUsq5Oo"
      },
      "outputs": [],
      "source": [
        "n_splits = 5\n",
        "\n",
        "indices_shuffled = np.random.permutation(X_train.index)\n",
        "indices_samples = np.array_split(indices_shuffled, n_splits)\n",
        "\n",
        "for sample in indices_samples:\n",
        "    X_splits = X_train.loc[sample]\n",
        "    y_splits = y_train.loc[sample]\n",
        "    mdl.fit(X_splits,y_splits)\n"
      ]
    },
    {
      "cell_type": "markdown",
      "metadata": {
        "id": "5HplCsW8xGCA"
      },
      "source": [
        "## Проверка"
      ]
    },
    {
      "cell_type": "code",
      "execution_count": null,
      "metadata": {
        "id": "dIzjA9GhyHYi"
      },
      "outputs": [],
      "source": [
        "y_pred = mdl.predict(X_test)"
      ]
    },
    {
      "cell_type": "code",
      "execution_count": null,
      "metadata": {
        "id": "_-89vDTHxMkO"
      },
      "outputs": [],
      "source": [
        "def show_confusion_matrix(y_true,y_pred):\n",
        "    y_pred, y_true = np.array(y_pred), np.array(y_true)\n",
        "    n = len(pd.unique(y_true))\n",
        "    plt.figure(figsize=(n*2,n*2))\n",
        "    confusion_normalized = confusion_matrix(y_true,y_pred,normalize='true')\n",
        "    axis_labels = sorted(np.unique(y_test))\n",
        "    ax = sns.heatmap(\n",
        "        confusion_normalized, xticklabels=axis_labels, yticklabels=axis_labels,\n",
        "        cmap='Blues', annot=True, fmt='.4f', square=True)\n",
        "    plt.title(\"Матрица ошибок\")\n",
        "    plt.xlabel(\"Истинные метки\")\n",
        "    plt.ylabel(\"Предсказанные метки\")"
      ]
    },
    {
      "cell_type": "code",
      "execution_count": null,
      "metadata": {
        "colab": {
          "base_uri": "https://localhost:8080/"
        },
        "id": "TNVMWprMyAOC",
        "outputId": "388a6fec-fc41-4dd7-f144-b8d0144ed688"
      },
      "outputs": [
        {
          "name": "stdout",
          "output_type": "stream",
          "text": [
            "Точность предсказаний: 0.93\n"
          ]
        }
      ],
      "source": [
        "print('Точность предсказаний: %.2f' % accuracy_score(y_test,y_pred))"
      ]
    },
    {
      "cell_type": "code",
      "execution_count": null,
      "metadata": {
        "colab": {
          "base_uri": "https://localhost:8080/",
          "height": 226
        },
        "id": "vifyquhhyK8o",
        "outputId": "2aecb326-d464-44b8-e7a4-5c915609dd9d"
      },
      "outputs": [
        {
          "data": {
            "image/png": "[encoded data removed]",
            "text/plain": [
              "<Figure size 400x400 with 2 Axes>"
            ]
          },
          "metadata": {},
          "output_type": "display_data"
        }
      ],
      "source": [
        "show_confusion_matrix(y_test,y_pred)"
      ]
    }
  ],
  "metadata": {
    "colab": {
      "provenance": []
    },
    "kernelspec": {
      "display_name": "Fake_news_detector-QgeB5syT",
      "language": "python",
      "name": "python3"
    },
    "language_info": {
      "codemirror_mode": {
        "name": "ipython",
        "version": 3
      },
      "file_extension": ".py",
      "mimetype": "text/x-python",
      "name": "python",
      "nbconvert_exporter": "python",
      "pygments_lexer": "ipython3",
      "version": "3.11.2"
    }
  },
  "nbformat": 4,
  "nbformat_minor": 0
}